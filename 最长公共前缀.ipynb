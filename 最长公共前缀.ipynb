{
 "cells": [
  {
   "cell_type": "code",
   "execution_count": 11,
   "metadata": {},
   "outputs": [
    {
     "name": "stdout",
     "output_type": "stream",
     "text": [
      "\n",
      "******\n",
      "a\n",
      "******\n",
      "******\n",
      "app\n",
      "******\n",
      "apps\n",
      "******\n",
      "appsd\n"
     ]
    }
   ],
   "source": [
    "#纵向扫描\n",
    "strs = [\"appsd\",\"apef\",\"apd\"]\n",
    "if not strs:\n",
    "    print(\"\")\n",
    "length,count = len(strs[0]),len(strs)\n",
    "for i in range(length):\n",
    "    c = strs[0][i]\n",
    "    if any(i==len(strs[j]) or strs[j][i]==c for j in range(1,count)):\n",
    "        print(strs[0][:i])\n",
    "        \n",
    "    print(\"******\")\n",
    "print(strs[0])"
   ]
  }
 ],
 "metadata": {
  "kernelspec": {
   "display_name": "Python 3",
   "language": "python",
   "name": "python3"
  },
  "language_info": {
   "codemirror_mode": {
    "name": "ipython",
    "version": 3
   },
   "file_extension": ".py",
   "mimetype": "text/x-python",
   "name": "python",
   "nbconvert_exporter": "python",
   "pygments_lexer": "ipython3",
   "version": "3.7.0"
  }
 },
 "nbformat": 4,
 "nbformat_minor": 2
}
