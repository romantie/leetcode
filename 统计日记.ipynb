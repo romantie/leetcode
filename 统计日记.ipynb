{
 "cells": [
  {
   "cell_type": "code",
   "execution_count": 3,
   "metadata": {},
   "outputs": [
    {
     "ename": "SyntaxError",
     "evalue": "invalid syntax (<ipython-input-3-4ecc6e1905c3>, line 25)",
     "output_type": "error",
     "traceback": [
      "\u001b[1;36m  File \u001b[1;32m\"<ipython-input-3-4ecc6e1905c3>\"\u001b[1;36m, line \u001b[1;32m25\u001b[0m\n\u001b[1;33m    print wc(txt)\u001b[0m\n\u001b[1;37m           ^\u001b[0m\n\u001b[1;31mSyntaxError\u001b[0m\u001b[1;31m:\u001b[0m invalid syntax\n"
     ]
    }
   ],
   "source": [
    "#你有一个目录，放了你一个月的日记，都是 txt，为了避免分词的问题，假设内容都是英文，请统计出你认为每篇日记最重要的词。\n",
    "\n",
    "import glob\n",
    "from collections import Counter\n",
    "import re\n",
    "\n",
    "\n",
    "def list_txt():\n",
    "    return glob.glob(\"*.txt\")\n",
    "\n",
    "\n",
    "def wc(filename):\n",
    "    datalist = []\n",
    "    with open(filename, 'r') as f:\n",
    "        for line in f:\n",
    "            content = re.sub(\"\\\"|,|\\.\", \"\", line)\n",
    "            datalist.extend(content.strip().split(' '))\n",
    "    # print datalist\n",
    "    return Counter(datalist).most_common(1)\n",
    "\n",
    "\n",
    "def most_comm():\n",
    "    all_txt = list_txt()\n",
    "    for txt in all_txt:\n",
    "        print wc(txt)\n",
    "\n",
    "if __name__ == \"__main__\":\n",
    "    most_comm()\n",
    "    #print map(wc, list_txt())"
   ]
  }
 ],
 "metadata": {
  "kernelspec": {
   "display_name": "Python 3",
   "language": "python",
   "name": "python3"
  },
  "language_info": {
   "codemirror_mode": {
    "name": "ipython",
    "version": 3
   },
   "file_extension": ".py",
   "mimetype": "text/x-python",
   "name": "python",
   "nbconvert_exporter": "python",
   "pygments_lexer": "ipython3",
   "version": "3.7.0"
  }
 },
 "nbformat": 4,
 "nbformat_minor": 2
}
