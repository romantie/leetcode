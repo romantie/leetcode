{
 "cells": [
  {
   "cell_type": "code",
   "execution_count": 8,
   "metadata": {},
   "outputs": [
    {
     "name": "stdout",
     "output_type": "stream",
     "text": [
      "153\n",
      "370\n",
      "371\n",
      "407\n",
      "[153, 370, 371, 407]\n"
     ]
    }
   ],
   "source": [
    "arr = list()\n",
    "for i in range(100,1000):\n",
    "    a = int((i/100)%10)\n",
    "    b = int((i/10)%10)\n",
    "    c = int(i%10)\n",
    "    if(a**3+b**3+c**3==i):\n",
    "        print(i)\n",
    "        arr.append(i)\n",
    "print(arr)"
   ]
  },
  {
   "cell_type": "code",
   "execution_count": 57,
   "metadata": {},
   "outputs": [
    {
     "name": "stdout",
     "output_type": "stream",
     "text": [
      "0\n",
      "0.6\n",
      "****60.00%\n"
     ]
    }
   ],
   "source": [
    "b = 0.6\n",
    "print(int(b))\n",
    "print(round(b,3))\n",
    "print(\"{:*>10.2%}\".format(b))"
   ]
  },
  {
   "cell_type": "code",
   "execution_count": null,
   "metadata": {},
   "outputs": [],
   "source": []
  }
 ],
 "metadata": {
  "kernelspec": {
   "display_name": "Python 3",
   "language": "python",
   "name": "python3"
  },
  "language_info": {
   "codemirror_mode": {
    "name": "ipython",
    "version": 3
   },
   "file_extension": ".py",
   "mimetype": "text/x-python",
   "name": "python",
   "nbconvert_exporter": "python",
   "pygments_lexer": "ipython3",
   "version": "3.7.0"
  }
 },
 "nbformat": 4,
 "nbformat_minor": 2
}
