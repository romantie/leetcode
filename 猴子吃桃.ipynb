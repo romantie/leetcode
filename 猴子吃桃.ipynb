{
 "cells": [
  {
   "cell_type": "code",
   "execution_count": 2,
   "metadata": {},
   "outputs": [
    {
     "name": "stdout",
     "output_type": "stream",
     "text": [
      "[1534, 766, 382, 190, 94, 46, 22, 10, 4, 1]\n"
     ]
    }
   ],
   "source": [
    "'''\n",
    "题目：猴子吃桃问题：猴子第一天摘下若干个桃子，当即吃了一半，还不瘾，又多吃了一个\n",
    "第二天早上又将剩下的桃子吃掉一半，又多吃了一个。\n",
    "以后每天早上都吃了前一天剩下的一半零一个。\n",
    "到第10天早上想再吃时，见只剩下一个桃子了。求第一天共摘了多少。\n",
    "'''\n",
    "\n",
    "# f(n) = (f(n + 1) / 2) - 1\n",
    "\n",
    "arr = []  # 每天剩余桃子数\n",
    "arr.insert(0, 1)\n",
    "\n",
    "for i in range(9, 0, -1):\n",
    "    n = (arr[0] + 1) * 2\n",
    "    arr.insert(0, n)\n",
    "\n",
    "print(arr)"
   ]
  },
  {
   "cell_type": "code",
   "execution_count": 13,
   "metadata": {},
   "outputs": [
    {
     "name": "stdout",
     "output_type": "stream",
     "text": [
      "           1            1           2            3           5            8****\n",
      "          13           21          34           55          89          144****\n",
      "         233          377         610          987        1597         2584****\n",
      "        4181         6765       10946        17711       28657        46368****\n",
      "       75025       121393      196418       317811      514229       832040****\n",
      "     1346269      2178309     3524578      5702887     9227465     14930352****\n",
      "    24157817     39088169    63245986    102334155   165580141    267914296****\n"
     ]
    }
   ],
   "source": [
    "'''\n",
    "题目：古典问题：有一对兔子，从出生后第3个月起每个月都生一对兔子，\n",
    "小兔子长到第三个月后每个月又生一对兔子，假如兔子都不死，问每个月的兔子总数为多少？\n",
    "'''\n",
    "\n",
    "f1, f2 = 1, 1\n",
    "for i in range(1, 22):\n",
    "    print('%12ld %12ld' % (f1, f2), end='')\n",
    "    if (i % 3) == 0:\n",
    "        print(\"****\")\n",
    "    f1 = f1 + f2\n",
    "    f2 = f1 + f2"
   ]
  }
 ],
 "metadata": {
  "kernelspec": {
   "display_name": "Python 3",
   "language": "python",
   "name": "python3"
  },
  "language_info": {
   "codemirror_mode": {
    "name": "ipython",
    "version": 3
   },
   "file_extension": ".py",
   "mimetype": "text/x-python",
   "name": "python",
   "nbconvert_exporter": "python",
   "pygments_lexer": "ipython3",
   "version": "3.7.0"
  }
 },
 "nbformat": 4,
 "nbformat_minor": 2
}
