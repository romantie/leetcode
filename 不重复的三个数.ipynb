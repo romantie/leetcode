{
 "cells": [
  {
   "cell_type": "code",
   "execution_count": 1,
   "metadata": {},
   "outputs": [],
   "source": [
    "#题目：有四个数字：1、2、3、4，能组成多少个互不相同且无重复数字的三位数？各是多少？"
   ]
  },
  {
   "cell_type": "code",
   "execution_count": 8,
   "metadata": {
    "collapsed": true
   },
   "outputs": [
    {
     "name": "stdout",
     "output_type": "stream",
     "text": [
      "[1, 2, 3]\n",
      "123\n",
      "[1, 2, 4]\n",
      "124\n",
      "[1, 3, 2]\n",
      "132\n",
      "[1, 3, 4]\n",
      "134\n",
      "[1, 4, 2]\n",
      "142\n",
      "[1, 4, 3]\n",
      "143\n",
      "[2, 1, 3]\n",
      "213\n",
      "[2, 1, 4]\n",
      "214\n",
      "[2, 3, 1]\n",
      "231\n",
      "[2, 3, 4]\n",
      "234\n",
      "[2, 4, 1]\n",
      "241\n",
      "[2, 4, 3]\n",
      "243\n",
      "[3, 1, 2]\n",
      "312\n",
      "[3, 1, 4]\n",
      "314\n",
      "[3, 2, 1]\n",
      "321\n",
      "[3, 2, 4]\n",
      "324\n",
      "[3, 4, 1]\n",
      "341\n",
      "[3, 4, 2]\n",
      "342\n",
      "[4, 1, 2]\n",
      "412\n",
      "[4, 1, 3]\n",
      "413\n",
      "[4, 2, 1]\n",
      "421\n",
      "[4, 2, 3]\n",
      "423\n",
      "[4, 3, 1]\n",
      "431\n",
      "[4, 3, 2]\n",
      "432\n"
     ]
    }
   ],
   "source": [
    "list = [1,2,3,4]\n",
    "for i in list:\n",
    "    for j in list:\n",
    "        for k in list:\n",
    "            if(i!=j and i!=k and j!=k):\n",
    "                print([i,j,k])\n",
    "                print(str(i)+str(j)+str(k))\n",
    "        pass\n",
    "    pass\n",
    "\n",
    "        "
   ]
  }
 ],
 "metadata": {
  "kernelspec": {
   "display_name": "Python 3",
   "language": "python",
   "name": "python3"
  },
  "language_info": {
   "codemirror_mode": {
    "name": "ipython",
    "version": 3
   },
   "file_extension": ".py",
   "mimetype": "text/x-python",
   "name": "python",
   "nbconvert_exporter": "python",
   "pygments_lexer": "ipython3",
   "version": "3.7.0"
  }
 },
 "nbformat": 4,
 "nbformat_minor": 2
}
