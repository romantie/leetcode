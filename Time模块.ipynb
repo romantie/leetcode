{
 "cells": [
  {
   "cell_type": "code",
   "execution_count": 1,
   "metadata": {},
   "outputs": [],
   "source": [
    "import time"
   ]
  },
  {
   "cell_type": "code",
   "execution_count": 5,
   "metadata": {},
   "outputs": [
    {
     "name": "stdout",
     "output_type": "stream",
     "text": [
      "time.struct_time(tm_year=2020, tm_mon=9, tm_mday=25, tm_hour=17, tm_min=39, tm_sec=32, tm_wday=4, tm_yday=269, tm_isdst=0)\n",
      "2020/09/25 17:39:32\n"
     ]
    }
   ],
   "source": [
    "format = \"%Y/%m/%d %H:%M:%S\"\n",
    "mytime = time.localtime()\n",
    "print(mytime)\n",
    "print(time.strftime(format,mytime))"
   ]
  }
 ],
 "metadata": {
  "kernelspec": {
   "display_name": "Python 3",
   "language": "python",
   "name": "python3"
  },
  "language_info": {
   "codemirror_mode": {
    "name": "ipython",
    "version": 3
   },
   "file_extension": ".py",
   "mimetype": "text/x-python",
   "name": "python",
   "nbconvert_exporter": "python",
   "pygments_lexer": "ipython3",
   "version": "3.7.0"
  }
 },
 "nbformat": 4,
 "nbformat_minor": 2
}
